{
  "cells": [
    {
      "cell_type": "markdown",
      "metadata": {
        "id": "view-in-github",
        "colab_type": "text"
      },
      "source": [
        "<a href=\"https://colab.research.google.com/github/PHYS486-S22/PHYS486-S22/blob/main/SampleNotebooks/NumericalPrecision.ipynb\" target=\"_parent\"><img src=\"https://colab.research.google.com/assets/colab-badge.svg\" alt=\"Open In Colab\"/></a>"
      ]
    },
    {
      "cell_type": "code",
      "execution_count": null,
      "id": "44402b35",
      "metadata": {
        "id": "44402b35"
      },
      "outputs": [],
      "source": [
        "#for more of this, see https://pythonnumericalmethods.berkeley.edu/notebooks/chapter09.03-Roundoff-Errors.html\n",
        "#and other sections in that text."
      ]
    },
    {
      "cell_type": "code",
      "execution_count": null,
      "id": "02f74a6d",
      "metadata": {
        "id": "02f74a6d",
        "outputId": "b5ec7d41-c3a9-43fd-c6eb-7974ef75e2fb"
      },
      "outputs": [
        {
          "data": {
            "text/plain": [
              "False"
            ]
          },
          "execution_count": 2,
          "metadata": {},
          "output_type": "execute_result"
        }
      ],
      "source": [
        "4.9 - 4.845 == 0.055"
      ]
    },
    {
      "cell_type": "code",
      "execution_count": null,
      "id": "a31bf1a7",
      "metadata": {
        "id": "a31bf1a7",
        "outputId": "b41712fb-26b3-42ec-dc55-9f37caa1861d"
      },
      "outputs": [
        {
          "data": {
            "text/plain": [
              "0.055000000000000604"
            ]
          },
          "execution_count": 3,
          "metadata": {},
          "output_type": "execute_result"
        }
      ],
      "source": [
        "4.9 - 4.845"
      ]
    },
    {
      "cell_type": "code",
      "execution_count": null,
      "id": "22e36caf",
      "metadata": {
        "id": "22e36caf",
        "outputId": "bc6a0221-ec1b-4fa4-ba40-2683b241d92d"
      },
      "outputs": [
        {
          "data": {
            "text/plain": [
              "-0.04499999999999993"
            ]
          },
          "execution_count": 4,
          "metadata": {},
          "output_type": "execute_result"
        }
      ],
      "source": [
        "4.8 - 4.845"
      ]
    },
    {
      "cell_type": "code",
      "execution_count": null,
      "id": "1fa84d2c",
      "metadata": {
        "id": "1fa84d2c",
        "outputId": "7a6c56e6-67ec-4c7e-db7a-25588ffa282b"
      },
      "outputs": [
        {
          "data": {
            "text/plain": [
              "False"
            ]
          },
          "execution_count": 5,
          "metadata": {},
          "output_type": "execute_result"
        }
      ],
      "source": [
        "0.1 + 0.2 + 0.3 == 0.6"
      ]
    },
    {
      "cell_type": "code",
      "execution_count": null,
      "id": "4efefb11",
      "metadata": {
        "id": "4efefb11",
        "outputId": "2548d735-d7b7-41ce-f134-d32afb903486"
      },
      "outputs": [
        {
          "data": {
            "text/plain": [
              "True"
            ]
          },
          "execution_count": 6,
          "metadata": {},
          "output_type": "execute_result"
        }
      ],
      "source": [
        "round(0.1 + 0.2 + 0.3, 5) == round(0.6, 5)"
      ]
    },
    {
      "cell_type": "code",
      "execution_count": null,
      "id": "f0b2507d",
      "metadata": {
        "id": "f0b2507d",
        "outputId": "1746ce6d-14d9-4d5e-adb2-85325ec537ab"
      },
      "outputs": [
        {
          "data": {
            "text/plain": [
              "1.0"
            ]
          },
          "execution_count": 7,
          "metadata": {},
          "output_type": "execute_result"
        }
      ],
      "source": [
        "1 + 1/3 - 1/3"
      ]
    },
    {
      "cell_type": "code",
      "execution_count": null,
      "id": "dbbd7411",
      "metadata": {
        "id": "dbbd7411"
      },
      "outputs": [],
      "source": [
        "def add_and_subtract(iterations):\n",
        "    result = 1\n",
        "    \n",
        "    for i in range(iterations):\n",
        "        result += 1/3\n",
        "        \n",
        "    for i in range(iterations):\n",
        "        result -= 1/3\n",
        "        \n",
        "    return result"
      ]
    },
    {
      "cell_type": "code",
      "execution_count": null,
      "id": "150e1f67",
      "metadata": {
        "id": "150e1f67",
        "outputId": "a9e012dd-6c70-4d81-cc49-e95e5b2724b3"
      },
      "outputs": [
        {
          "data": {
            "text/plain": [
              "1.0000000000000002"
            ]
          },
          "execution_count": 9,
          "metadata": {},
          "output_type": "execute_result"
        }
      ],
      "source": [
        "add_and_subtract(100)"
      ]
    },
    {
      "cell_type": "code",
      "execution_count": null,
      "id": "a10111b8",
      "metadata": {
        "id": "a10111b8",
        "outputId": "d57ae328-4b2f-4471-ce6b-22f10a54c5fa"
      },
      "outputs": [
        {
          "data": {
            "text/plain": [
              "1.0000000000000064"
            ]
          },
          "execution_count": 10,
          "metadata": {},
          "output_type": "execute_result"
        }
      ],
      "source": [
        "add_and_subtract(1000)"
      ]
    },
    {
      "cell_type": "code",
      "execution_count": null,
      "id": "f717e362",
      "metadata": {
        "id": "f717e362",
        "outputId": "ed9a427f-fd8f-46d9-8898-b0e7b3890d75"
      },
      "outputs": [
        {
          "data": {
            "text/plain": [
              "1.0000000000001166"
            ]
          },
          "execution_count": 11,
          "metadata": {},
          "output_type": "execute_result"
        }
      ],
      "source": [
        "add_and_subtract(10000)"
      ]
    },
    {
      "cell_type": "code",
      "execution_count": null,
      "id": "31b8bd8f",
      "metadata": {
        "id": "31b8bd8f"
      },
      "outputs": [],
      "source": [
        "import numpy as np\n",
        "\n",
        "def add_and_subtract(iterations):\n",
        "    result = np.float16(1)\n",
        "    \n",
        "    for i in range(iterations):\n",
        "        result += np.float16(1/3)\n",
        "        \n",
        "    for i in range(iterations):\n",
        "        result -= np.float16(1/3)\n",
        "        \n",
        "    return result"
      ]
    },
    {
      "cell_type": "code",
      "execution_count": null,
      "id": "a5dfd2da",
      "metadata": {
        "id": "a5dfd2da",
        "outputId": "dfd4143b-aaa2-4f89-a118-3a3ad87a78bb"
      },
      "outputs": [
        {
          "data": {
            "text/plain": [
              "1.001"
            ]
          },
          "execution_count": 23,
          "metadata": {},
          "output_type": "execute_result"
        }
      ],
      "source": [
        "add_and_subtract(100)"
      ]
    },
    {
      "cell_type": "code",
      "execution_count": null,
      "id": "724eb63a",
      "metadata": {
        "id": "724eb63a",
        "outputId": "f71d5c66-c9bc-48e5-e1c0-200036e56000"
      },
      "outputs": [
        {
          "data": {
            "text/plain": [
              "0.8203"
            ]
          },
          "execution_count": 24,
          "metadata": {},
          "output_type": "execute_result"
        }
      ],
      "source": [
        "add_and_subtract(1000)"
      ]
    },
    {
      "cell_type": "code",
      "execution_count": null,
      "id": "8eb89e59",
      "metadata": {
        "id": "8eb89e59"
      },
      "outputs": [],
      "source": [
        "import numpy as np\n",
        "\n",
        "def add_and_subtract(iterations):\n",
        "    result = np.longdouble(1)\n",
        "    \n",
        "    for i in range(iterations):\n",
        "        result += np.longdouble(1/3)\n",
        "        \n",
        "    for i in range(iterations):\n",
        "        result -= np.longdouble(1/3)\n",
        "        \n",
        "    return result"
      ]
    },
    {
      "cell_type": "code",
      "execution_count": null,
      "id": "09e20ec2",
      "metadata": {
        "id": "09e20ec2",
        "outputId": "1aa4a979-990a-44bb-a913-ab0503ce3fe2"
      },
      "outputs": [
        {
          "data": {
            "text/plain": [
              "1.0"
            ]
          },
          "execution_count": 28,
          "metadata": {},
          "output_type": "execute_result"
        }
      ],
      "source": [
        "add_and_subtract(1000)"
      ]
    },
    {
      "cell_type": "code",
      "execution_count": null,
      "id": "bdd21413",
      "metadata": {
        "id": "bdd21413"
      },
      "outputs": [],
      "source": [
        "a = np.longdouble(1.00000000000000000001e-100)"
      ]
    },
    {
      "cell_type": "code",
      "execution_count": null,
      "id": "3538b366",
      "metadata": {
        "id": "3538b366"
      },
      "outputs": [],
      "source": [
        "b = np.longdouble(1.00000000000000000002e-100)"
      ]
    },
    {
      "cell_type": "code",
      "execution_count": null,
      "id": "850a00e5",
      "metadata": {
        "id": "850a00e5",
        "outputId": "e62d4b4c-185b-458e-b1bb-5e51d0d50642"
      },
      "outputs": [
        {
          "data": {
            "text/plain": [
              "0.0"
            ]
          },
          "execution_count": 39,
          "metadata": {},
          "output_type": "execute_result"
        }
      ],
      "source": [
        "b - a "
      ]
    },
    {
      "cell_type": "code",
      "execution_count": null,
      "id": "e8876cba",
      "metadata": {
        "id": "e8876cba",
        "outputId": "1da17eb7-de77-4a29-ccde-0276cc9173de"
      },
      "outputs": [
        {
          "name": "stdout",
          "output_type": "stream",
          "text": [
            "0.0\n"
          ]
        }
      ],
      "source": [
        "a = np.longdouble(1.00000000000000000001e-100 - 1.0000000000000000000e-100)\n",
        "print(a)"
      ]
    },
    {
      "cell_type": "code",
      "execution_count": null,
      "id": "4a336a90",
      "metadata": {
        "id": "4a336a90"
      },
      "outputs": [],
      "source": [
        "delta_ba = 1e-120"
      ]
    },
    {
      "cell_type": "code",
      "execution_count": null,
      "id": "26221a40",
      "metadata": {
        "id": "26221a40",
        "outputId": "20a2c9af-0413-477a-a27e-3970294db624"
      },
      "outputs": [
        {
          "name": "stdout",
          "output_type": "stream",
          "text": [
            "1e-120\n"
          ]
        }
      ],
      "source": [
        "print(delta_ba)"
      ]
    },
    {
      "cell_type": "code",
      "execution_count": null,
      "id": "98d9b94b",
      "metadata": {
        "id": "98d9b94b"
      },
      "outputs": [],
      "source": [
        ""
      ]
    }
  ],
  "metadata": {
    "kernelspec": {
      "display_name": "Python 3 (ipykernel)",
      "language": "python",
      "name": "python3"
    },
    "language_info": {
      "codemirror_mode": {
        "name": "ipython",
        "version": 3
      },
      "file_extension": ".py",
      "mimetype": "text/x-python",
      "name": "python",
      "nbconvert_exporter": "python",
      "pygments_lexer": "ipython3",
      "version": "3.10.4"
    },
    "colab": {
      "name": "NumericalPrecision.ipynb",
      "provenance": [],
      "include_colab_link": true
    }
  },
  "nbformat": 4,
  "nbformat_minor": 5
}