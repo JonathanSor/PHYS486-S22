{
 "cells": [
  {
   "cell_type": "code",
   "execution_count": 1,
   "id": "44402b35",
   "metadata": {},
   "outputs": [],
   "source": [
    "#for more of this, see https://pythonnumericalmethods.berkeley.edu/notebooks/chapter09.03-Roundoff-Errors.html\n",
    "#and other sections in that text."
   ]
  },
  {
   "cell_type": "code",
   "execution_count": 2,
   "id": "02f74a6d",
   "metadata": {},
   "outputs": [
    {
     "data": {
      "text/plain": [
       "False"
      ]
     },
     "execution_count": 2,
     "metadata": {},
     "output_type": "execute_result"
    }
   ],
   "source": [
    "4.9 - 4.845 == 0.055"
   ]
  },
  {
   "cell_type": "code",
   "execution_count": 3,
   "id": "a31bf1a7",
   "metadata": {},
   "outputs": [
    {
     "data": {
      "text/plain": [
       "0.055000000000000604"
      ]
     },
     "execution_count": 3,
     "metadata": {},
     "output_type": "execute_result"
    }
   ],
   "source": [
    "4.9 - 4.845"
   ]
  },
  {
   "cell_type": "code",
   "execution_count": 4,
   "id": "22e36caf",
   "metadata": {},
   "outputs": [
    {
     "data": {
      "text/plain": [
       "-0.04499999999999993"
      ]
     },
     "execution_count": 4,
     "metadata": {},
     "output_type": "execute_result"
    }
   ],
   "source": [
    "4.8 - 4.845"
   ]
  },
  {
   "cell_type": "code",
   "execution_count": 5,
   "id": "1fa84d2c",
   "metadata": {},
   "outputs": [
    {
     "data": {
      "text/plain": [
       "False"
      ]
     },
     "execution_count": 5,
     "metadata": {},
     "output_type": "execute_result"
    }
   ],
   "source": [
    "0.1 + 0.2 + 0.3 == 0.6"
   ]
  },
  {
   "cell_type": "code",
   "execution_count": 6,
   "id": "4efefb11",
   "metadata": {},
   "outputs": [
    {
     "data": {
      "text/plain": [
       "True"
      ]
     },
     "execution_count": 6,
     "metadata": {},
     "output_type": "execute_result"
    }
   ],
   "source": [
    "round(0.1 + 0.2 + 0.3, 5) == round(0.6, 5)"
   ]
  },
  {
   "cell_type": "code",
   "execution_count": 7,
   "id": "f0b2507d",
   "metadata": {},
   "outputs": [
    {
     "data": {
      "text/plain": [
       "1.0"
      ]
     },
     "execution_count": 7,
     "metadata": {},
     "output_type": "execute_result"
    }
   ],
   "source": [
    "1 + 1/3 - 1/3"
   ]
  },
  {
   "cell_type": "code",
   "execution_count": 8,
   "id": "dbbd7411",
   "metadata": {},
   "outputs": [],
   "source": [
    "def add_and_subtract(iterations):\n",
    "    result = 1\n",
    "    \n",
    "    for i in range(iterations):\n",
    "        result += 1/3\n",
    "        \n",
    "    for i in range(iterations):\n",
    "        result -= 1/3\n",
    "        \n",
    "    return result"
   ]
  },
  {
   "cell_type": "code",
   "execution_count": 9,
   "id": "150e1f67",
   "metadata": {},
   "outputs": [
    {
     "data": {
      "text/plain": [
       "1.0000000000000002"
      ]
     },
     "execution_count": 9,
     "metadata": {},
     "output_type": "execute_result"
    }
   ],
   "source": [
    "add_and_subtract(100)"
   ]
  },
  {
   "cell_type": "code",
   "execution_count": 10,
   "id": "a10111b8",
   "metadata": {},
   "outputs": [
    {
     "data": {
      "text/plain": [
       "1.0000000000000064"
      ]
     },
     "execution_count": 10,
     "metadata": {},
     "output_type": "execute_result"
    }
   ],
   "source": [
    "add_and_subtract(1000)"
   ]
  },
  {
   "cell_type": "code",
   "execution_count": 11,
   "id": "f717e362",
   "metadata": {},
   "outputs": [
    {
     "data": {
      "text/plain": [
       "1.0000000000001166"
      ]
     },
     "execution_count": 11,
     "metadata": {},
     "output_type": "execute_result"
    }
   ],
   "source": [
    "add_and_subtract(10000)"
   ]
  },
  {
   "cell_type": "code",
   "execution_count": 22,
   "id": "31b8bd8f",
   "metadata": {},
   "outputs": [],
   "source": [
    "import numpy as np\n",
    "\n",
    "def add_and_subtract(iterations):\n",
    "    result = np.float16(1)\n",
    "    \n",
    "    for i in range(iterations):\n",
    "        result += np.float16(1/3)\n",
    "        \n",
    "    for i in range(iterations):\n",
    "        result -= np.float16(1/3)\n",
    "        \n",
    "    return result"
   ]
  },
  {
   "cell_type": "code",
   "execution_count": 23,
   "id": "a5dfd2da",
   "metadata": {},
   "outputs": [
    {
     "data": {
      "text/plain": [
       "1.001"
      ]
     },
     "execution_count": 23,
     "metadata": {},
     "output_type": "execute_result"
    }
   ],
   "source": [
    "add_and_subtract(100)"
   ]
  },
  {
   "cell_type": "code",
   "execution_count": 24,
   "id": "724eb63a",
   "metadata": {},
   "outputs": [
    {
     "data": {
      "text/plain": [
       "0.8203"
      ]
     },
     "execution_count": 24,
     "metadata": {},
     "output_type": "execute_result"
    }
   ],
   "source": [
    "add_and_subtract(1000)"
   ]
  },
  {
   "cell_type": "code",
   "execution_count": 27,
   "id": "8eb89e59",
   "metadata": {},
   "outputs": [],
   "source": [
    "import numpy as np\n",
    "\n",
    "def add_and_subtract(iterations):\n",
    "    result = np.longdouble(1)\n",
    "    \n",
    "    for i in range(iterations):\n",
    "        result += np.longdouble(1/3)\n",
    "        \n",
    "    for i in range(iterations):\n",
    "        result -= np.longdouble(1/3)\n",
    "        \n",
    "    return result"
   ]
  },
  {
   "cell_type": "code",
   "execution_count": 28,
   "id": "09e20ec2",
   "metadata": {},
   "outputs": [
    {
     "data": {
      "text/plain": [
       "1.0"
      ]
     },
     "execution_count": 28,
     "metadata": {},
     "output_type": "execute_result"
    }
   ],
   "source": [
    "add_and_subtract(1000)"
   ]
  },
  {
   "cell_type": "code",
   "execution_count": 37,
   "id": "bdd21413",
   "metadata": {},
   "outputs": [],
   "source": [
    "a = np.longdouble(1.00000000000000000001e-100)"
   ]
  },
  {
   "cell_type": "code",
   "execution_count": 38,
   "id": "3538b366",
   "metadata": {},
   "outputs": [],
   "source": [
    "b = np.longdouble(1.00000000000000000002e-100)"
   ]
  },
  {
   "cell_type": "code",
   "execution_count": 39,
   "id": "850a00e5",
   "metadata": {},
   "outputs": [
    {
     "data": {
      "text/plain": [
       "0.0"
      ]
     },
     "execution_count": 39,
     "metadata": {},
     "output_type": "execute_result"
    }
   ],
   "source": [
    "b - a "
   ]
  },
  {
   "cell_type": "code",
   "execution_count": 42,
   "id": "e8876cba",
   "metadata": {},
   "outputs": [
    {
     "name": "stdout",
     "output_type": "stream",
     "text": [
      "0.0\n"
     ]
    }
   ],
   "source": [
    "a = np.longdouble(1.00000000000000000001e-100 - 1.0000000000000000000e-100)\n",
    "print(a)"
   ]
  },
  {
   "cell_type": "code",
   "execution_count": 43,
   "id": "4a336a90",
   "metadata": {},
   "outputs": [],
   "source": [
    "delta_ba = 1e-120"
   ]
  },
  {
   "cell_type": "code",
   "execution_count": 44,
   "id": "26221a40",
   "metadata": {},
   "outputs": [
    {
     "name": "stdout",
     "output_type": "stream",
     "text": [
      "1e-120\n"
     ]
    }
   ],
   "source": [
    "print(delta_ba)"
   ]
  },
  {
   "cell_type": "code",
   "execution_count": null,
   "id": "98d9b94b",
   "metadata": {},
   "outputs": [],
   "source": []
  }
 ],
 "metadata": {
  "kernelspec": {
   "display_name": "Python 3 (ipykernel)",
   "language": "python",
   "name": "python3"
  },
  "language_info": {
   "codemirror_mode": {
    "name": "ipython",
    "version": 3
   },
   "file_extension": ".py",
   "mimetype": "text/x-python",
   "name": "python",
   "nbconvert_exporter": "python",
   "pygments_lexer": "ipython3",
   "version": "3.10.4"
  }
 },
 "nbformat": 4,
 "nbformat_minor": 5
}
